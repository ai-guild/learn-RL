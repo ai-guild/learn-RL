{
 "cells": [
  {
   "cell_type": "code",
   "execution_count": 1,
   "metadata": {
    "collapsed": true
   },
   "outputs": [],
   "source": [
    "import tensorflow as tf\n",
    "from tensorflow.contrib.layers import xavier_initializer as xinit"
   ]
  },
  {
   "cell_type": "code",
   "execution_count": 7,
   "metadata": {
    "collapsed": true
   },
   "outputs": [],
   "source": [
    "import numpy as np"
   ]
  },
  {
   "cell_type": "code",
   "execution_count": 2,
   "metadata": {
    "collapsed": true
   },
   "outputs": [],
   "source": [
    "import gym"
   ]
  },
  {
   "cell_type": "markdown",
   "metadata": {},
   "source": [
    "## build network\n",
    "\n",
    "- input : state\n",
    "- output : Q-values for each action"
   ]
  },
  {
   "cell_type": "code",
   "execution_count": 3,
   "metadata": {
    "collapsed": true
   },
   "outputs": [],
   "source": [
    "state_size = 4\n",
    "action_size = 2\n",
    "hdim = 24"
   ]
  },
  {
   "cell_type": "code",
   "execution_count": 5,
   "metadata": {},
   "outputs": [],
   "source": [
    "class DQNAgent():\n",
    "    \n",
    "    def __init__(self, state_size=4, action_size=2, hdim=24, epsilon=1.):\n",
    "        \n",
    "        self.epsilon = epsilon\n",
    "        self.action_size = action_size\n",
    "        \n",
    "        tf.reset_default_graph()\n",
    "        self.state_ = tf.placeholder(tf.float32, shape=[None, state_size], name='states')\n",
    "        self.target_ = tf.placeholder(tf.float32, shape=[None, action_size], name='targets')\n",
    "        W1 = tf.get_variable('W1', dtype=tf.float32, shape=[state_size, hdim], initializer=xinit() )\n",
    "        b1 = tf.get_variable('b1', dtype=tf.float32, shape=[hdim], initializer=xinit() )\n",
    "        h = tf.nn.relu(tf.matmul(self.state_, W1) + b1)\n",
    "        W2 = tf.get_variable('W2', dtype=tf.float32, shape=[hdim, action_size], initializer=xinit() )\n",
    "        b2 = tf.get_variable('b2', dtype=tf.float32, shape=[action_size], initializer=xinit() )\n",
    "        self.q_out = tf.matmul(h, W2) + b2\n",
    "        self.loss = tf.reduce_mean(tf.pow(self.q_out - self.target_, 2))\n",
    "        \n",
    "        self.sess = tf.Session()\n",
    "        self.sess.run(tf.global_variables_initializer())\n",
    "        \n",
    "\n",
    "    def get_action(self, s):\n",
    "        if np.random.rand() <= self.epsilon:\n",
    "            return np.random.randint(0, self.action_size)\n",
    "        \n",
    "        q_values = self.sess.run(self.q_out, feed_dict = {\n",
    "            self.state_ : s\n",
    "        })[0]\n",
    "        \n",
    "        return np.argmax(q_values)"
   ]
  }
 ],
 "metadata": {
  "kernelspec": {
   "display_name": "tf",
   "language": "python",
   "name": "tf"
  },
  "language_info": {
   "codemirror_mode": {
    "name": "ipython",
    "version": 3
   },
   "file_extension": ".py",
   "mimetype": "text/x-python",
   "name": "python",
   "nbconvert_exporter": "python",
   "pygments_lexer": "ipython3",
   "version": "3.5.2"
  }
 },
 "nbformat": 4,
 "nbformat_minor": 2
}
